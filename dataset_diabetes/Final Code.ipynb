{
 "cells": [
  {
   "cell_type": "markdown",
   "metadata": {},
   "source": [
    "## Data Mining Final Project\n",
    "### Pattern Mining and Predictive analytics using the Diabetes dataset\n",
    "#### Jude Ogbuibe & Pooja Bansal\n",
    "##### May 6, 2018\n",
    "\n",
    "Below is the summary of the process we undertook as well as the code used to generate our analysis.\n",
    "\n",
    "#### Step 1: Prelimnary Data Cleaning and Transformation\n",
    "\n",
    "These processes were carried out with the aim of:\n",
    "* Dealing with missing information\n",
    "* Encode data in the required form to aid our analysis"
   ]
  },
  {
   "cell_type": "code",
   "execution_count": 1,
   "metadata": {
    "collapsed": true
   },
   "outputs": [],
   "source": [
    "## Load required libraries\n",
    "\n",
    "import pandas as pd\n",
    "import numpy as np\n",
    "import matplotlib.pyplot as plt\n",
    "import seaborn as sns\n",
    "%matplotlib inline"
   ]
  },
  {
   "cell_type": "code",
   "execution_count": 2,
   "metadata": {
    "collapsed": true
   },
   "outputs": [],
   "source": [
    "## Load data into dataframe\n",
    "\n",
    "dataset = pd.read_csv('diabetic_data.csv')"
   ]
  },
  {
   "cell_type": "code",
   "execution_count": 3,
   "metadata": {},
   "outputs": [
    {
     "data": {
      "text/plain": [
       "encounter_id                    0\n",
       "patient_nbr                     0\n",
       "race                         2273\n",
       "gender                          0\n",
       "age                             0\n",
       "weight                      98569\n",
       "admission_type_id               0\n",
       "discharge_disposition_id        0\n",
       "admission_source_id             0\n",
       "time_in_hospital                0\n",
       "payer_code                  40256\n",
       "medical_specialty           49949\n",
       "num_lab_procedures              0\n",
       "num_procedures                  0\n",
       "num_medications                 0\n",
       "number_outpatient               0\n",
       "number_emergency                0\n",
       "number_inpatient                0\n",
       "diag_1                         21\n",
       "diag_2                        358\n",
       "diag_3                       1423\n",
       "number_diagnoses                0\n",
       "max_glu_serum                   0\n",
       "A1Cresult                       0\n",
       "metformin                       0\n",
       "repaglinide                     0\n",
       "nateglinide                     0\n",
       "chlorpropamide                  0\n",
       "glimepiride                     0\n",
       "acetohexamide                   0\n",
       "glipizide                       0\n",
       "glyburide                       0\n",
       "tolbutamide                     0\n",
       "pioglitazone                    0\n",
       "rosiglitazone                   0\n",
       "acarbose                        0\n",
       "miglitol                        0\n",
       "troglitazone                    0\n",
       "tolazamide                      0\n",
       "examide                         0\n",
       "citoglipton                     0\n",
       "insulin                         0\n",
       "glyburide-metformin             0\n",
       "glipizide-metformin             0\n",
       "glimepiride-pioglitazone        0\n",
       "metformin-rosiglitazone         0\n",
       "metformin-pioglitazone          0\n",
       "change                          0\n",
       "diabetesMed                     0\n",
       "readmitted                      0\n",
       "dtype: int64"
      ]
     },
     "execution_count": 3,
     "metadata": {},
     "output_type": "execute_result"
    }
   ],
   "source": [
    "# Replace '?' with NAN and check for nulls\n",
    "\n",
    "dataset.replace('?', np.nan, inplace = True)\n",
    "dataset.isnull().sum()"
   ]
  },
  {
   "cell_type": "code",
   "execution_count": 4,
   "metadata": {
    "collapsed": true
   },
   "outputs": [],
   "source": [
    "## Exclude Weight, Medical Specialty and Paycode due to missing values\n",
    "\n",
    "dataset.drop(['weight', 'payer_code', 'medical_specialty'], axis = 1, inplace =True)"
   ]
  },
  {
   "cell_type": "code",
   "execution_count": 5,
   "metadata": {
    "collapsed": true
   },
   "outputs": [],
   "source": [
    "## Encode Missing values in Race with Unknown\n",
    "\n",
    "dataset['race'].fillna('Unknown', inplace = True)"
   ]
  },
  {
   "cell_type": "code",
   "execution_count": 6,
   "metadata": {
    "collapsed": true
   },
   "outputs": [],
   "source": [
    "## Encode Diagnosis details based on details provided in Paper\n",
    "\n",
    "import math\n",
    "def getencoding(value):\n",
    "    '''\n",
    "    0: Diabetese\n",
    "    1: Circulatory\n",
    "    2: Respiratory\n",
    "    3: Digestive\n",
    "    4: Injury\n",
    "    5: Muskuloskeletal\n",
    "    6: Genitourinary\n",
    "    7: Neoplasms\n",
    "    8: Others\n",
    "    '''\n",
    "    #result = 8\n",
    "    if (str.isalpha(str(value)[0])):\n",
    "        return 8\n",
    "    else:\n",
    "        if math.floor(float(value)) == 250:\n",
    "            return 0\n",
    "        if ((float(value)) >= 390 and float(value) <= 459) or float(value) == 785:\n",
    "            return 1\n",
    "        if (float(value) >= 460 and float(value) <= 519) or float(value) == 786:\n",
    "            return 2\n",
    "        if (float(value) >= 520 and float(value) <= 579) or float(value) == 787:\n",
    "            return 3\n",
    "        if (float(value) >= 800 and float(value) <= 999):\n",
    "            return 4\n",
    "        if (float(value) >= 710 and float(value) <= 739):\n",
    "            return 5\n",
    "        if (float(value) >= 580 and float(value) <= 629) or float(value) == 788:\n",
    "            return 6\n",
    "        if (float(value) >= 140 and float(value) <= 239) or (float(value) >= 790 and float(value) <= 799) \\\n",
    "        or (float(value) >= 240 and float(value) <= 249) or (float(value) >= 251 and float(value) <= 271) \\\n",
    "        or (float(value) >= 680 and float(value) <= 709) or (float(value) >= 1 and float(value) <= 139) \\\n",
    "        or (float(value) >= 780 and float(value) <= 782):\n",
    "            return 7\n",
    "        if (float(value) >= 290 and float(value) <= 319) or (float(value) >= 280 and float(value) <= 289)\\\n",
    "        or (float(value) >= 320 and float(value) <= 389) or (float(value) >= 630 and float(value) <= 679) \\\n",
    "        or (float(value) >= 740 and float(value) <= 759):\n",
    "            return 8\n",
    "        else:\n",
    "            return 8\n",
    "        \n",
    "\n",
    "dataset['diag_1'] = dataset['diag_1'].apply(getencoding)\n",
    "dataset['diag_2'] = dataset['diag_2'].apply(getencoding)\n",
    "dataset['diag_3'] = dataset['diag_3'].apply(getencoding)"
   ]
  },
  {
   "cell_type": "code",
   "execution_count": 7,
   "metadata": {
    "collapsed": true
   },
   "outputs": [],
   "source": [
    "## Drop duplicates based to ensure each entry corresponds to a single patient\n",
    "\n",
    "dataset.drop_duplicates('patient_nbr', inplace = True)"
   ]
  },
  {
   "cell_type": "code",
   "execution_count": 8,
   "metadata": {
    "collapsed": true
   },
   "outputs": [],
   "source": [
    "## remove patients who expired to prevent\n",
    "dataset =  dataset[(dataset['discharge_disposition_id'] != 19) | (dataset['discharge_disposition_id'] != 11) | \\\n",
    "                   (dataset['discharge_disposition_id'] != 21) | (dataset['discharge_disposition_id'] != 20)]"
   ]
  },
  {
   "cell_type": "code",
   "execution_count": 9,
   "metadata": {
    "collapsed": true
   },
   "outputs": [],
   "source": [
    "## Further exclude Non-significant attributes encounter_id\n",
    "\n",
    "dataset.drop(['encounter_id', 'patient_nbr'], axis = 1, inplace = True)"
   ]
  },
  {
   "cell_type": "code",
   "execution_count": 10,
   "metadata": {
    "collapsed": true
   },
   "outputs": [],
   "source": [
    "## Review attribute datatypes\n",
    "\n",
    "dataset[['admission_type_id', 'discharge_disposition_id', 'admission_source_id', 'diag_1', 'diag_2', 'diag_3']] = dataset[['admission_type_id', 'discharge_disposition_id', 'admission_source_id', 'diag_1', 'diag_2', 'diag_3']].astype(object, inplace = True)"
   ]
  },
  {
   "cell_type": "code",
   "execution_count": 11,
   "metadata": {},
   "outputs": [
    {
     "data": {
      "text/plain": [
       "(71518, 45)"
      ]
     },
     "execution_count": 11,
     "metadata": {},
     "output_type": "execute_result"
    }
   ],
   "source": [
    "## Space after prelimnary data cleaning and transformation\n",
    "dataset.shape"
   ]
  },
  {
   "cell_type": "markdown",
   "metadata": {},
   "source": [
    "#### Step 2: Exploratory data analysis and data description\n",
    "\n",
    "Here we attempt to get more insight into our data by understanding the not obvious statistical elements."
   ]
  },
  {
   "cell_type": "code",
   "execution_count": 12,
   "metadata": {},
   "outputs": [
    {
     "data": {
      "text/html": [
       "<div>\n",
       "<style>\n",
       "    .dataframe thead tr:only-child th {\n",
       "        text-align: right;\n",
       "    }\n",
       "\n",
       "    .dataframe thead th {\n",
       "        text-align: left;\n",
       "    }\n",
       "\n",
       "    .dataframe tbody tr th {\n",
       "        vertical-align: top;\n",
       "    }\n",
       "</style>\n",
       "<table border=\"1\" class=\"dataframe\">\n",
       "  <thead>\n",
       "    <tr style=\"text-align: right;\">\n",
       "      <th></th>\n",
       "      <th>count</th>\n",
       "      <th>mean</th>\n",
       "      <th>std</th>\n",
       "      <th>min</th>\n",
       "      <th>25%</th>\n",
       "      <th>50%</th>\n",
       "      <th>75%</th>\n",
       "      <th>max</th>\n",
       "    </tr>\n",
       "  </thead>\n",
       "  <tbody>\n",
       "    <tr>\n",
       "      <th>time_in_hospital</th>\n",
       "      <td>71518.0</td>\n",
       "      <td>4.289130</td>\n",
       "      <td>2.949210</td>\n",
       "      <td>1.0</td>\n",
       "      <td>2.0</td>\n",
       "      <td>3.0</td>\n",
       "      <td>6.0</td>\n",
       "      <td>14.0</td>\n",
       "    </tr>\n",
       "    <tr>\n",
       "      <th>num_lab_procedures</th>\n",
       "      <td>71518.0</td>\n",
       "      <td>43.075478</td>\n",
       "      <td>19.952338</td>\n",
       "      <td>1.0</td>\n",
       "      <td>31.0</td>\n",
       "      <td>44.0</td>\n",
       "      <td>57.0</td>\n",
       "      <td>132.0</td>\n",
       "    </tr>\n",
       "    <tr>\n",
       "      <th>num_procedures</th>\n",
       "      <td>71518.0</td>\n",
       "      <td>1.430577</td>\n",
       "      <td>1.759864</td>\n",
       "      <td>0.0</td>\n",
       "      <td>0.0</td>\n",
       "      <td>1.0</td>\n",
       "      <td>2.0</td>\n",
       "      <td>6.0</td>\n",
       "    </tr>\n",
       "    <tr>\n",
       "      <th>num_medications</th>\n",
       "      <td>71518.0</td>\n",
       "      <td>15.705025</td>\n",
       "      <td>8.311163</td>\n",
       "      <td>1.0</td>\n",
       "      <td>10.0</td>\n",
       "      <td>14.0</td>\n",
       "      <td>20.0</td>\n",
       "      <td>81.0</td>\n",
       "    </tr>\n",
       "    <tr>\n",
       "      <th>number_outpatient</th>\n",
       "      <td>71518.0</td>\n",
       "      <td>0.280069</td>\n",
       "      <td>1.068957</td>\n",
       "      <td>0.0</td>\n",
       "      <td>0.0</td>\n",
       "      <td>0.0</td>\n",
       "      <td>0.0</td>\n",
       "      <td>42.0</td>\n",
       "    </tr>\n",
       "    <tr>\n",
       "      <th>number_emergency</th>\n",
       "      <td>71518.0</td>\n",
       "      <td>0.103540</td>\n",
       "      <td>0.509187</td>\n",
       "      <td>0.0</td>\n",
       "      <td>0.0</td>\n",
       "      <td>0.0</td>\n",
       "      <td>0.0</td>\n",
       "      <td>42.0</td>\n",
       "    </tr>\n",
       "    <tr>\n",
       "      <th>number_inpatient</th>\n",
       "      <td>71518.0</td>\n",
       "      <td>0.177829</td>\n",
       "      <td>0.603790</td>\n",
       "      <td>0.0</td>\n",
       "      <td>0.0</td>\n",
       "      <td>0.0</td>\n",
       "      <td>0.0</td>\n",
       "      <td>12.0</td>\n",
       "    </tr>\n",
       "    <tr>\n",
       "      <th>number_diagnoses</th>\n",
       "      <td>71518.0</td>\n",
       "      <td>7.245700</td>\n",
       "      <td>1.994674</td>\n",
       "      <td>1.0</td>\n",
       "      <td>6.0</td>\n",
       "      <td>8.0</td>\n",
       "      <td>9.0</td>\n",
       "      <td>16.0</td>\n",
       "    </tr>\n",
       "  </tbody>\n",
       "</table>\n",
       "</div>"
      ],
      "text/plain": [
       "                      count       mean        std  min   25%   50%   75%  \\\n",
       "time_in_hospital    71518.0   4.289130   2.949210  1.0   2.0   3.0   6.0   \n",
       "num_lab_procedures  71518.0  43.075478  19.952338  1.0  31.0  44.0  57.0   \n",
       "num_procedures      71518.0   1.430577   1.759864  0.0   0.0   1.0   2.0   \n",
       "num_medications     71518.0  15.705025   8.311163  1.0  10.0  14.0  20.0   \n",
       "number_outpatient   71518.0   0.280069   1.068957  0.0   0.0   0.0   0.0   \n",
       "number_emergency    71518.0   0.103540   0.509187  0.0   0.0   0.0   0.0   \n",
       "number_inpatient    71518.0   0.177829   0.603790  0.0   0.0   0.0   0.0   \n",
       "number_diagnoses    71518.0   7.245700   1.994674  1.0   6.0   8.0   9.0   \n",
       "\n",
       "                      max  \n",
       "time_in_hospital     14.0  \n",
       "num_lab_procedures  132.0  \n",
       "num_procedures        6.0  \n",
       "num_medications      81.0  \n",
       "number_outpatient    42.0  \n",
       "number_emergency     42.0  \n",
       "number_inpatient     12.0  \n",
       "number_diagnoses     16.0  "
      ]
     },
     "execution_count": 12,
     "metadata": {},
     "output_type": "execute_result"
    }
   ],
   "source": [
    "## Describe The numerical attributes of the dataset\n",
    "\n",
    "dataset.describe().T"
   ]
  },
  {
   "cell_type": "code",
   "execution_count": 13,
   "metadata": {},
   "outputs": [
    {
     "data": {
      "text/plain": [
       "array([[<matplotlib.axes._subplots.AxesSubplot object at 0x0000000011A75048>,\n",
       "        <matplotlib.axes._subplots.AxesSubplot object at 0x0000000011E9BC50>,\n",
       "        <matplotlib.axes._subplots.AxesSubplot object at 0x0000000011B418D0>],\n",
       "       [<matplotlib.axes._subplots.AxesSubplot object at 0x0000000011EDC630>,\n",
       "        <matplotlib.axes._subplots.AxesSubplot object at 0x0000000011FB2E80>,\n",
       "        <matplotlib.axes._subplots.AxesSubplot object at 0x000000001036AD68>],\n",
       "       [<matplotlib.axes._subplots.AxesSubplot object at 0x000000001037AF60>,\n",
       "        <matplotlib.axes._subplots.AxesSubplot object at 0x0000000010526550>,\n",
       "        <matplotlib.axes._subplots.AxesSubplot object at 0x0000000010633080>]], dtype=object)"
      ]
     },
     "execution_count": 13,
     "metadata": {},
     "output_type": "execute_result"
    },
    {
     "data": {
      "image/png": "[encoded data removed]",
      "text/plain": [
       "<matplotlib.figure.Figure at 0x10954438>"
      ]
     },
     "metadata": {},
     "output_type": "display_data"
    }
   ],
   "source": [
    "## Veiw the distributions \n",
    "\n",
    "dataset.select_dtypes(include = [np.number]).hist(figsize = [15, 15], bins = 10, color = 'green')"
   ]
  },
  {
   "cell_type": "code",
   "execution_count": 14,
   "metadata": {},
   "outputs": [
    {
     "data": {
      "image/png": "[encoded data removed]",
      "text/plain": [
       "<matplotlib.figure.Figure at 0x1017a4a8>"
      ]
     },
     "metadata": {},
     "output_type": "display_data"
    }
   ],
   "source": [
    "## Check for correlation between numeric attributes\n",
    "\n",
    "sns.heatmap(dataset.select_dtypes(include = [np.number]).corr(),annot=True,cmap='RdYlGn')\n",
    "fig = plt.gcf()\n",
    "fig.set_size_inches(12,8)\n"
   ]
  },
  {
   "cell_type": "markdown",
   "metadata": {},
   "source": [
    "No strong correlation between numeric attributes!"
   ]
  },
  {
   "cell_type": "code",
   "execution_count": 15,
   "metadata": {},
   "outputs": [
    {
     "data": {
      "text/plain": [
       "<matplotlib.axes._subplots.AxesSubplot at 0x121fe550>"
      ]
     },
     "execution_count": 15,
     "metadata": {},
     "output_type": "execute_result"
    },
    {
     "data": {
      "image/png": "[encoded data removed]",
      "text/plain": [
       "<matplotlib.figure.Figure at 0xfa8a198>"
      ]
     },
     "metadata": {},
     "output_type": "display_data"
    }
   ],
   "source": [
    "## Show count plot of categorical attributes.\n",
    "\n",
    "sns.countplot(x='readmitted', data= dataset)"
   ]
  },
  {
   "cell_type": "markdown",
   "metadata": {},
   "source": [
    "This reveals that the target variable has a imbalance skewed toward No readmission."
   ]
  },
  {
   "cell_type": "code",
   "execution_count": 16,
   "metadata": {},
   "outputs": [
    {
     "data": {
      "image/png": "[encoded data removed]",
      "text/plain": [
       "<matplotlib.figure.Figure at 0x11243eb8>"
      ]
     },
     "metadata": {},
     "output_type": "display_data"
    }
   ],
   "source": [
    "## Plot count plot of \n",
    "\n",
    "attribs = ['race', 'gender', 'age', 'admission_type_id','discharge_disposition_id', 'admission_source_id', 'diag_1', 'diag_2','diag_3', 'max_glu_serum', 'A1Cresult','readmitted']\n",
    "fig, ax = plt.subplots(nrows=4, ncols=3, figsize = [20,20])\n",
    "for i,j in enumerate(attribs):\n",
    "    sns.countplot(x = j, data = dataset, ax = ax[i//3][i%3])"
   ]
  },
  {
   "cell_type": "markdown",
   "metadata": {},
   "source": [
    "#### Step 3: Pattern Mining Analysis\n",
    "\n",
    "Here, we attempt to perform pattern mining to find hidden patterns related to drugs administered and readmission."
   ]
  },
  {
   "cell_type": "code",
   "execution_count": 105,
   "metadata": {
    "collapsed": true
   },
   "outputs": [],
   "source": [
    "from collections import defaultdict, namedtuple\n",
    "from itertools import chain,combinations\n",
    "import itertools\n",
    "import time"
   ]
  },
  {
   "cell_type": "code",
   "execution_count": 100,
   "metadata": {
    "collapsed": true
   },
   "outputs": [],
   "source": [
    "## Remove patients without diabetes diagnoses\n",
    "diab = dataset[(dataset['diag_1'] == 0) | (dataset['diag_2'] == 0) | (dataset['diag_3'] == 0)]"
   ]
  },
  {
   "cell_type": "code",
   "execution_count": 108,
   "metadata": {
    "collapsed": true
   },
   "outputs": [],
   "source": [
    "## Implementing the FP-Growth algorithm\n",
    "class FPNode(object):\n",
    "    '''\n",
    "    Implements a node of the FP tree\n",
    "    '''\n",
    "\n",
    "    def __init__(self, value, count, parent):\n",
    "        \"\"\"\n",
    "        Initializes the node.\n",
    "        \"\"\"\n",
    "        self.value = value\n",
    "        self.count = count\n",
    "        self.parent = parent\n",
    "        self.link = None\n",
    "        self.children = []\n",
    "\n",
    "    def has_child(self, value):\n",
    "        \"\"\"\n",
    "        Checks if the node has children\n",
    "        \"\"\"\n",
    "        for node in self.children:\n",
    "            if node.value == value:\n",
    "                return True\n",
    "\n",
    "        return False\n",
    "\n",
    "    def get_child(self, value):\n",
    "        \"\"\"\n",
    "        Return a child node with a particular value.\n",
    "        \"\"\"\n",
    "        for node in self.children:\n",
    "            if node.value == value:\n",
    "                return node\n",
    "\n",
    "        return None\n",
    "\n",
    "    def add_child(self, value):\n",
    "        \"\"\"\n",
    "        Add a node as a child node.\n",
    "        \"\"\"\n",
    "        child = FPNode(value, 1, self)\n",
    "        self.children.append(child)\n",
    "        return child\n",
    "\n",
    "\n",
    "class FPTree(object):\n",
    "    \"\"\"\n",
    "    A frequent pattern tree.\n",
    "    \"\"\"\n",
    "\n",
    "    def __init__(self, transactions, threshold, root_value, root_count):\n",
    "        \"\"\"\n",
    "        Initialize the tree.\n",
    "        \"\"\"\n",
    "        self.frequent = self.find_frequent_items(transactions, threshold)\n",
    "        self.headers = self.build_header_table(self.frequent)\n",
    "        self.root = self.build_fptree(\n",
    "            transactions, root_value,\n",
    "            root_count, self.frequent, self.headers)\n",
    "\n",
    "    @staticmethod\n",
    "    def find_frequent_items(transactions, threshold):\n",
    "        \"\"\"\n",
    "        Create a dictionary of items with occurrences above the threshold.\n",
    "        \"\"\"\n",
    "        items = {}\n",
    "\n",
    "        for transaction in transactions:\n",
    "            for item in transaction:\n",
    "                if item in items:\n",
    "                    items[item] += 1\n",
    "                else:\n",
    "                    items[item] = 1\n",
    "\n",
    "        for key in list(items.keys()):\n",
    "            if items[key] < threshold:\n",
    "                del items[key]\n",
    "\n",
    "        return items\n",
    "\n",
    "    @staticmethod\n",
    "    def build_header_table(frequent):\n",
    "        \"\"\"\n",
    "        Build the header table.\n",
    "        \"\"\"\n",
    "        headers = {}\n",
    "        for key in frequent.keys():\n",
    "            headers[key] = None\n",
    "\n",
    "        return headers\n",
    "\n",
    "    def build_fptree(self, transactions, root_value,\n",
    "                     root_count, frequent, headers):\n",
    "        \"\"\"\n",
    "        Build the FP tree and return the root node.\n",
    "        \"\"\"\n",
    "        root = FPNode(root_value, root_count, None)\n",
    "\n",
    "        for transaction in transactions:\n",
    "            sorted_items = [x for x in transaction if x in frequent]\n",
    "            sorted_items.sort(key=lambda x: frequent[x], reverse=True)\n",
    "            if len(sorted_items) > 0:\n",
    "                self.insert_tree(sorted_items, root, headers)\n",
    "\n",
    "        return root\n",
    "\n",
    "    def insert_tree(self, items, node, headers):\n",
    "        \"\"\"\n",
    "        Recursively grow FP tree.\n",
    "        \"\"\"\n",
    "        first = items[0]\n",
    "        child = node.get_child(first)\n",
    "        if child is not None:\n",
    "            child.count += 1\n",
    "        else:\n",
    "            # Add new child.\n",
    "            child = node.add_child(first)\n",
    "\n",
    "            # Link it to header structure.\n",
    "            if headers[first] is None:\n",
    "                headers[first] = child\n",
    "            else:\n",
    "                current = headers[first]\n",
    "                while current.link is not None:\n",
    "                    current = current.link\n",
    "                current.link = child\n",
    "\n",
    "        # Call function recursively.\n",
    "        remaining_items = items[1:]\n",
    "        if len(remaining_items) > 0:\n",
    "            self.insert_tree(remaining_items, child, headers)\n",
    "\n",
    "    def tree_has_single_path(self, node):\n",
    "        \"\"\"\n",
    "        If there is a single path in the tree,\n",
    "        return True, else return False.\n",
    "        \"\"\"\n",
    "        num_children = len(node.children)\n",
    "        if num_children > 1:\n",
    "            return False\n",
    "        elif num_children == 0:\n",
    "            return True\n",
    "        else:\n",
    "            return True and self.tree_has_single_path(node.children[0])\n",
    "\n",
    "    def mine_patterns(self, threshold):\n",
    "        \"\"\"\n",
    "        Mine the constructed FP tree for frequent patterns.\n",
    "        \"\"\"\n",
    "        if self.tree_has_single_path(self.root):\n",
    "            return self.generate_pattern_list()\n",
    "        else:\n",
    "            return self.zip_patterns(self.mine_sub_trees(threshold))\n",
    "\n",
    "    def zip_patterns(self, patterns):\n",
    "        \"\"\"\n",
    "        Append suffix to patterns in dictionary if\n",
    "        we are in a conditional FP tree.\n",
    "        \"\"\"\n",
    "        suffix = self.root.value\n",
    "\n",
    "        if suffix is not None:\n",
    "            # We are in a conditional tree.\n",
    "            new_patterns = {}\n",
    "            for key in patterns.keys():\n",
    "                new_patterns[tuple(sorted(list(key) + [suffix]))] = patterns[key]\n",
    "\n",
    "            return new_patterns\n",
    "\n",
    "        return patterns\n",
    "\n",
    "    def generate_pattern_list(self):\n",
    "        \"\"\"\n",
    "        Generate a list of patterns with support counts.\n",
    "        \"\"\"\n",
    "        patterns = {}\n",
    "        items = self.frequent.keys()\n",
    "\n",
    "        # If we are in a conditional tree,\n",
    "        # the suffix is a pattern on its own.\n",
    "        if self.root.value is None:\n",
    "            suffix_value = []\n",
    "        else:\n",
    "            suffix_value = [self.root.value]\n",
    "            patterns[tuple(suffix_value)] = self.root.count\n",
    "\n",
    "        for i in range(1, len(items) + 1):\n",
    "            for subset in itertools.combinations(items, i):\n",
    "                pattern = tuple(sorted(list(subset) + suffix_value))\n",
    "                patterns[pattern] = \\\n",
    "                    min([self.frequent[x] for x in subset])\n",
    "\n",
    "        return patterns\n",
    "\n",
    "    def mine_sub_trees(self, threshold):\n",
    "        \"\"\"\n",
    "        Generate subtrees and mine them for patterns.\n",
    "        \"\"\"\n",
    "        patterns = {}\n",
    "        mining_order = sorted(self.frequent.keys(),\n",
    "                              key=lambda x: self.frequent[x])\n",
    "\n",
    "        # Get items in tree in reverse order of occurrences.\n",
    "        for item in mining_order:\n",
    "            suffixes = []\n",
    "            conditional_tree_input = []\n",
    "            node = self.headers[item]\n",
    "\n",
    "            # Follow node links to get a list of\n",
    "            # all occurrences of a certain item.\n",
    "            while node is not None:\n",
    "                suffixes.append(node)\n",
    "                node = node.link\n",
    "\n",
    "            # For each occurrence of the item, \n",
    "            # trace the path back to the root node.\n",
    "            for suffix in suffixes:\n",
    "                frequency = suffix.count\n",
    "                path = []\n",
    "                parent = suffix.parent\n",
    "\n",
    "                while parent.parent is not None:\n",
    "                    path.append(parent.value)\n",
    "                    parent = parent.parent\n",
    "\n",
    "                for i in range(frequency):\n",
    "                    conditional_tree_input.append(path)\n",
    "\n",
    "            # Now we have the input for a subtree,\n",
    "            # so construct it and grab the patterns.\n",
    "            subtree = FPTree(conditional_tree_input, threshold,\n",
    "                             item, self.frequent[item])\n",
    "            subtree_patterns = subtree.mine_patterns(threshold)\n",
    "\n",
    "            # Insert subtree patterns into main patterns dictionary.\n",
    "            for pattern in subtree_patterns.keys():\n",
    "                if pattern in patterns:\n",
    "                    patterns[pattern] += subtree_patterns[pattern]\n",
    "                else:\n",
    "                    patterns[pattern] = subtree_patterns[pattern]\n",
    "\n",
    "        return patterns\n",
    "\n",
    "\n",
    "def find_frequent_patterns(transactions, min_sup):\n",
    "    \"\"\"\n",
    "    Transactions: As a list of transaction sets\n",
    "    min_sup: Absolute minimum support \n",
    "    \"\"\"\n",
    "    \n",
    "    #starttime = time.time()\n",
    "    support_threshold =  min_sup * len(transactions)\n",
    "    tree = FPTree(transactions, support_threshold, None, None)\n",
    "    \n",
    "    result = tree.mine_patterns(support_threshold)\n",
    "    freqitems = set([])\n",
    "    resultdict = {}\n",
    "    for itemset, values in result.items():\n",
    "        freqitems.add(frozenset(itemset))\n",
    "        #resultdict[freqitems.add(frozenset(itemset))] = values\n",
    "        \n",
    "    return freqitems\n",
    "\n",
    "\n",
    "def getffrequentassociations(frequentset, frequentsetcounters, minconf, numoftrans):\n",
    "    '''\n",
    "    frequentset: Set of frequent items from which rules are to be obtained.\n",
    "    frequentsetcounters: Set of frequent items with their support count.\n",
    "    minconf: minumum confidence which must hold for a rule to be frequent.\n",
    "    numoftrans: number of transactions which is being mined.\n",
    "    '''\n",
    "    def getsupport(item):\n",
    "        '''\n",
    "        item: Item in frequent itemset whose minimums support is to be determined.\n",
    "        Returns float value of support value.\n",
    "        '''\n",
    "        #if len(item) == 1:\n",
    "        #    item = frozenset([list(item)[0]])\n",
    "        return float(frequentsetcounters[item])/numoftrans\n",
    "    \n",
    "    frequentrules = []\n",
    "    for freqitem in frequentset:\n",
    "        #Get Subsets for frequent item\n",
    "        subs = subsets(freqitem)\n",
    "        for element in subs:\n",
    "            rem = freqitem.difference(element)\n",
    "            if len(rem) > 0:\n",
    "                if getsupport(element) == 0:\n",
    "                    conf = 0\n",
    "                    lift = 0\n",
    "                else:\n",
    "                    conf = getsupport(freqitem)/getsupport(element)\n",
    "                    support = getsupport(freqitem)\n",
    "                    if getsupport(frozenset(rem)) == 0:\n",
    "                        lift = 0\n",
    "                    else:\n",
    "                        lift = conf/getsupport(frozenset(rem))\n",
    "                if conf >= minconf:\n",
    "                    frequentrules.append(((tuple(element), tuple(rem)),conf,support,lift))    \n",
    "    #return sorted(frequentrules, reverse=True, key = lambda rule, conf, sup: sup)\n",
    "    return frequentrules"
   ]
  },
  {
   "cell_type": "code",
   "execution_count": 109,
   "metadata": {
    "collapsed": true
   },
   "outputs": [],
   "source": [
    "def gettransactionset(data):\n",
    "    '''\n",
    "    Converts dataframe into set of items.\n",
    "    '''\n",
    "    tranlist = []\n",
    "    for i in data.index:\n",
    "        itemset = []\n",
    "        for k,v in dict(data.loc[i]).items():\n",
    "            if isinstance(v, str) or not np.isnan(v): #Handle missing values\n",
    "                itemset.append(k + ' - ' + str(v))\n",
    "        tranlist.append(frozenset(itemset))\n",
    "    return tranlist\n"
   ]
  },
  {
   "cell_type": "code",
   "execution_count": 101,
   "metadata": {
    "collapsed": true
   },
   "outputs": [],
   "source": [
    "## Using a minimum support of 0.1% obtain all frequent patterns\n",
    "minsup = 0.001\n",
    "transactionset = gettransactionset(diab)\n",
    "#patterns = find_frequent_patterns(transactionset, 0.01)"
   ]
  },
  {
   "cell_type": "code",
   "execution_count": 107,
   "metadata": {},
   "outputs": [],
   "source": [
    "patterns = find_frequent_patterns(transactionset, minsup)"
   ]
  },
  {
   "cell_type": "code",
   "execution_count": null,
   "metadata": {
    "collapsed": true
   },
   "outputs": [],
   "source": [
    "## Selecting the demographic elements gender, age & sex\n",
    "demographics = gettransactionset(diab[['gender', 'age', 'race']])\n",
    "l = []\n",
    "for i in demographics:\n",
    "    for j in i:\n",
    "        l.append(j)\n",
    "demographics = set(l)"
   ]
  },
  {
   "cell_type": "code",
   "execution_count": null,
   "metadata": {
    "collapsed": true
   },
   "outputs": [],
   "source": [
    "## Recode the readmission status\n",
    "readmit = set(['readmitted - ' + str(i) for i in pd.unique(assoc_diab['readmitted'])])"
   ]
  },
  {
   "cell_type": "code",
   "execution_count": null,
   "metadata": {
    "collapsed": true
   },
   "outputs": [],
   "source": [
    "## Obtain set of drugs used!\n",
    "drugs = gettransactionset(assoc_diab.drop(['gender', 'age', 'race', 'readmitted'], axis = 1))\n",
    "l = []\n",
    "for i in drugs:\n",
    "    for j in i:\n",
    "        l.append(j)\n",
    "drugs = set(l)"
   ]
  },
  {
   "cell_type": "code",
   "execution_count": null,
   "metadata": {
    "collapsed": true
   },
   "outputs": [],
   "source": [
    "## Get the rules which can be considered:\n",
    "List = []\n",
    "for i in patterns:    \n",
    "    if i.intersection(demographics) != set([]):\n",
    "        if i.intersection(drugs) != set({}):\n",
    "            if i.intersection(readmit) != set({}):\n",
    "                List.append(i)"
   ]
  },
  {
   "cell_type": "code",
   "execution_count": null,
   "metadata": {
    "collapsed": true
   },
   "outputs": [],
   "source": [
    "transactionset = gettransactionset(assoc_diab)\n",
    "\n",
    "ll = []\n",
    "for i in list(patterns):\n",
    "    ll = ll + subsets(i)\n",
    "    \n",
    "ll = set(ll)\n"
   ]
  },
  {
   "cell_type": "code",
   "execution_count": null,
   "metadata": {
    "collapsed": true
   },
   "outputs": [],
   "source": [
    "## Get support count for all possible subset of the dataset\n",
    "\n",
    "trandict = defaultdict(int)\n",
    "for i in ll:\n",
    "    for transaction in transactionset:\n",
    "        if i.issubset(transaction):\n",
    "            trandict[i] += 1\n",
    "trandict = dict(trandict)"
   ]
  },
  {
   "cell_type": "code",
   "execution_count": null,
   "metadata": {
    "collapsed": true
   },
   "outputs": [],
   "source": [
    "## Get list of associations\n",
    "\n",
    "associations = getffrequentassociations(s, trandict, 0.5, len(assoc_diab))"
   ]
  },
  {
   "cell_type": "code",
   "execution_count": null,
   "metadata": {
    "collapsed": true
   },
   "outputs": [],
   "source": [
    "## To validate each of the rules\n",
    "def stratifyrules(rulelist):\n",
    "    '''\n",
    "    removes uninteresting rules based on the rules of thumb:\n",
    "        1. Lift greater than 1\n",
    "        2. Rule has a component for readmission, demographios and drugs applied\n",
    "        \n",
    "    returns: List of rules.\n",
    "    '''\n",
    "    rulesd = {}\n",
    "    for rule in rulelist:\n",
    "        if rule[3] > 1:\n",
    "            if checkrule(set(rule[0][0])):\n",
    "                if set(rule[0][1]).issubset(readmit):\n",
    "                    rulesd[str(rule[0][0]) + '=>' + str(rule[0][1])] = [rule[1], rule[2], rule[3]]\n",
    "    \n",
    "    return rulesd"
   ]
  },
  {
   "cell_type": "code",
   "execution_count": null,
   "metadata": {
    "collapsed": true
   },
   "outputs": [],
   "source": [
    "final = stratifyrules(associations)"
   ]
  },
  {
   "cell_type": "code",
   "execution_count": null,
   "metadata": {
    "collapsed": true
   },
   "outputs": [],
   "source": [
    "result = pd.DataFrame(final, index=['Confidence', 'Support', 'Lift'])\n",
    "result = result.T\n",
    "result.sort_values('Confidence', ascending=False)"
   ]
  },
  {
   "cell_type": "markdown",
   "metadata": {},
   "source": [
    "#### Step 4: Predictive Analysis\n",
    "\n",
    "We would attempt to use the following algorithms from the Scikit Learn Library:\n",
    "* Gaussian Naive Bayes\n",
    "* Decision Tree\n",
    "* Random Forest\n"
   ]
  },
  {
   "cell_type": "code",
   "execution_count": 86,
   "metadata": {},
   "outputs": [],
   "source": [
    "## Import the required libraries\n",
    "from sklearn.grid_search import GridSearchCV\n",
    "from sklearn.tree import DecisionTreeClassifier\n",
    "from sklearn.ensemble import RandomForestClassifier\n",
    "from sklearn.preprocessing import LabelEncoder\n",
    "from sklearn.model_selection import StratifiedKFold, train_test_split\n",
    "from sklearn.naive_bayes import GaussianNB\n",
    "from sklearn.metrics import f1_score, roc_curve, auc, roc_auc_score"
   ]
  },
  {
   "cell_type": "code",
   "execution_count": 22,
   "metadata": {},
   "outputs": [],
   "source": [
    "##  Encode Non Numeric Variables\n",
    "\n",
    "X = dataset.drop('readmitted', axis =1)\n",
    "y = dataset['readmitted'].apply(lambda x: 1 if x == '<30' else 0)\n",
    "\n",
    "le = LabelEncoder()\n",
    "\n",
    "for i,j in dict(X.dtypes).items():\n",
    "    if str(j) == 'object':\n",
    "        X[i] = le.fit_transform(X[i])\n",
    "        "
   ]
  },
  {
   "cell_type": "code",
   "execution_count": 71,
   "metadata": {},
   "outputs": [],
   "source": [
    "##  For Decision Tree Model\n",
    "##  Using K-Fold Cross Validation and Parameter tuning to obtain the best parameters\n",
    "##  Using Gini Index we would attempt to tune the max features and Criterion via a brute force approach\n",
    "\n",
    "max_features = ['auto', 'sqrt', 'log2']\n",
    "max_depth = range(1,16)\n",
    "results = {}\n",
    "\n",
    "kfoldcv = StratifiedKFold(n_splits=5, random_state=1)\n",
    "\n",
    "for i in max_features:\n",
    "    for j in max_depth:\n",
    "        clf = DecisionTreeClassifier(max_depth=j, max_features=i)\n",
    "        #print (i,j)\n",
    "        scores = []\n",
    "        \n",
    "        for k, (train, test) in enumerate(kfoldcv.split(X,y)):\n",
    "            clf.fit(X.iloc[train], y.iloc[train])\n",
    "            #f1score = clf.score(X.iloc[test], y.iloc[test])\n",
    "            f1score = f1_score(clf.predict(X.iloc[test]), y.iloc[test])\n",
    "            scores.append(f1score)\n",
    "        \n",
    "        results[(i,j)] = np.mean(scores)"
   ]
  },
  {
   "cell_type": "code",
   "execution_count": 73,
   "metadata": {},
   "outputs": [
    {
     "data": {
      "text/plain": [
       "(('auto', 15), 0.058727881429893006)"
      ]
     },
     "execution_count": 73,
     "metadata": {},
     "output_type": "execute_result"
    }
   ],
   "source": [
    "## Best F1 score from the parameter tuning is:\n",
    "\n",
    "sorted(results.items(), key = lambda (k,v): v, reverse = True)[0]"
   ]
  },
  {
   "cell_type": "code",
   "execution_count": 47,
   "metadata": {},
   "outputs": [
    {
     "data": {
      "text/plain": [
       "DecisionTreeClassifier(class_weight=None, criterion='gini', max_depth=15,\n",
       "            max_features='auto', max_leaf_nodes=None,\n",
       "            min_impurity_split=1e-07, min_samples_leaf=1,\n",
       "            min_samples_split=2, min_weight_fraction_leaf=0.0,\n",
       "            presort=False, random_state=None, splitter='best')"
      ]
     },
     "execution_count": 47,
     "metadata": {},
     "output_type": "execute_result"
    }
   ],
   "source": [
    "## Get the feature importances based on this\n",
    "\n",
    "DecisonTreeclf = DecisionTreeClassifier(max_features='auto', max_depth=15)\n",
    "DecisonTreeclf.fit(X,y)"
   ]
  },
  {
   "cell_type": "code",
   "execution_count": 49,
   "metadata": {},
   "outputs": [
    {
     "data": {
      "text/plain": [
       "[(0.10095585735462261, 'num_lab_procedures'),\n",
       " (0.096728986526426183, 'discharge_disposition_id'),\n",
       " (0.082394897411741913, 'num_medications'),\n",
       " (0.072273390179128608, 'number_inpatient'),\n",
       " (0.064483606725068768, 'time_in_hospital'),\n",
       " (0.054204579793483303, 'diag_1'),\n",
       " (0.049105413328004568, 'age'),\n",
       " (0.048468829215930473, 'diag_2'),\n",
       " (0.045943541916412561, 'number_diagnoses'),\n",
       " (0.041178454850258561, 'diag_3')]"
      ]
     },
     "execution_count": 49,
     "metadata": {},
     "output_type": "execute_result"
    }
   ],
   "source": [
    "## Top 10 Most Important Features\n",
    "sorted(zip(DecisonTreeclf.feature_importances_, X.columns), key = lambda x: x[0], reverse = True)[:10]"
   ]
  },
  {
   "cell_type": "code",
   "execution_count": 63,
   "metadata": {},
   "outputs": [
    {
     "name": "stdout",
     "output_type": "stream",
     "text": [
      "(50, 1)\n"
     ]
    },
    {
     "name": "stderr",
     "output_type": "stream",
     "text": [
      "C:\\ProgramData\\Anaconda2\\lib\\site-packages\\sklearn\\metrics\\classification.py:1115: UndefinedMetricWarning: F-score is ill-defined and being set to 0.0 in labels with no true samples.\n",
      "  'recall', 'true', average, warn_for)\n"
     ]
    },
    {
     "name": "stdout",
     "output_type": "stream",
     "text": [
      "(50, 2)\n",
      "(50, 3)\n",
      "(50, 4)\n",
      "(50, 5)\n",
      "(50, 6)\n",
      "(50, 7)\n",
      "(50, 8)\n",
      "(50, 9)\n",
      "(100, 1)\n",
      "(100, 2)\n",
      "(100, 3)\n",
      "(100, 4)\n",
      "(100, 5)\n",
      "(100, 6)\n",
      "(100, 7)\n",
      "(100, 8)\n",
      "(100, 9)\n",
      "(300, 1)\n",
      "(300, 2)\n",
      "(300, 3)\n",
      "(300, 4)\n",
      "(300, 5)\n",
      "(300, 6)\n",
      "(300, 7)\n",
      "(300, 8)\n",
      "(300, 9)\n",
      "(500, 1)\n",
      "(500, 2)\n",
      "(500, 3)\n",
      "(500, 4)\n",
      "(500, 5)\n",
      "(500, 6)\n",
      "(500, 7)\n",
      "(500, 8)\n",
      "(500, 9)\n"
     ]
    }
   ],
   "source": [
    "## Using Random Forest Classifier\n",
    "\n",
    "##max_features = ['auto', 'sqrt', 'log2']\n",
    "max_depth = range(1,10)\n",
    "n_estimators = [50, 100, 300, 500]\n",
    "\n",
    "results = {}\n",
    "\n",
    "## Using K-Fold Cross Validation with 5 Folds\n",
    "kfoldcv = StratifiedKFold(n_splits=5, random_state=1)\n",
    "\n",
    "for i in n_estimators:\n",
    "    for j in max_depth:\n",
    "        clf = RandomForestClassifier(max_depth=j, n_estimators=i)\n",
    "        ##print (i,j)\n",
    "        scores = []\n",
    "        \n",
    "        for k, (train, test) in enumerate(kfoldcv.split(X,y)):\n",
    "            clf.fit(X.iloc[train], y.iloc[train])\n",
    "            f1score = f1_score(clf.predict(X.iloc[test]), y.iloc[test], average='weighted')\n",
    "            scores.append(f1score)\n",
    "        \n",
    "        results[(i,j)] = np.mean(scores)"
   ]
  },
  {
   "cell_type": "code",
   "execution_count": 77,
   "metadata": {},
   "outputs": [
    {
     "data": {
      "text/plain": [
       "[(('auto', 15), 0.058727881429893006),\n",
       " (('sqrt', 15), 0.053597205546712899),\n",
       " (('log2', 15), 0.051378378954058765),\n",
       " (('auto', 14), 0.049008688233550993),\n",
       " (('auto', 13), 0.048945881110207298),\n",
       " (('sqrt', 14), 0.048190928420151276),\n",
       " (('sqrt', 13), 0.044796370729897894),\n",
       " (('log2', 14), 0.044754344371206914),\n",
       " (('sqrt', 12), 0.03271227003956563),\n",
       " (('log2', 13), 0.03114902806845412),\n",
       " (('auto', 12), 0.028508762649423335),\n",
       " (('log2', 10), 0.027994305772018113),\n",
       " (('log2', 11), 0.027411903070886791),\n",
       " (('auto', 11), 0.023280180187924205),\n",
       " (('sqrt', 10), 0.021721069721334897),\n",
       " (('auto', 10), 0.021428638285386426),\n",
       " (('log2', 12), 0.021410468146405147),\n",
       " (('sqrt', 9), 0.021271696808536671),\n",
       " (('log2', 4), 0.020911537778130353),\n",
       " (('sqrt', 8), 0.018728756420656252),\n",
       " (('sqrt', 11), 0.018719990088468908),\n",
       " (('auto', 9), 0.01548153128460018),\n",
       " (('log2', 9), 0.01423846481570247),\n",
       " (('auto', 7), 0.012232377148239527),\n",
       " (('sqrt', 7), 0.010211758973205729),\n",
       " (('sqrt', 4), 0.010128965045077383),\n",
       " (('auto', 8), 0.007668039189403314),\n",
       " (('auto', 6), 0.0061108175490673005),\n",
       " (('log2', 7), 0.0055867476044425294),\n",
       " (('sqrt', 6), 0.0053141303993739083),\n",
       " (('sqrt', 5), 0.004250943971147181),\n",
       " (('log2', 8), 0.0031170941639272398),\n",
       " (('log2', 6), 0.0022027640842993195),\n",
       " (('auto', 5), 0.00063391481957978031),\n",
       " (('log2', 5), 0.00063191153238546598),\n",
       " (('auto', 4), 0.00031695721077654512),\n",
       " (('auto', 3), 0.0),\n",
       " (('sqrt', 3), 0.0),\n",
       " (('log2', 2), 0.0),\n",
       " (('auto', 2), 0.0),\n",
       " (('log2', 3), 0.0),\n",
       " (('auto', 1), 0.0),\n",
       " (('sqrt', 1), 0.0),\n",
       " (('sqrt', 2), 0.0),\n",
       " (('log2', 1), 0.0)]"
      ]
     },
     "execution_count": 77,
     "metadata": {},
     "output_type": "execute_result"
    }
   ],
   "source": [
    "sorted(results.items(), key = lambda (k,v): v, reverse = True)[0]"
   ]
  },
  {
   "cell_type": "code",
   "execution_count": 59,
   "metadata": {
    "collapsed": true
   },
   "outputs": [],
   "source": [
    "RandomForestClf = RandomForestClassifier(n_estimators=300, max_depth=5)"
   ]
  },
  {
   "cell_type": "code",
   "execution_count": 62,
   "metadata": {},
   "outputs": [
    {
     "data": {
      "text/plain": [
       "0.87003696880672221"
      ]
     },
     "execution_count": 62,
     "metadata": {},
     "output_type": "execute_result"
    }
   ],
   "source": [
    "RandomForestClf.fit(X,y)\n",
    "f1_score(y, RandomForestClf.predict(X), average='weighted')"
   ]
  },
  {
   "cell_type": "code",
   "execution_count": 111,
   "metadata": {},
   "outputs": [
    {
     "data": {
      "text/plain": [
       "RandomForestClassifier(bootstrap=True, class_weight=None, criterion='gini',\n",
       "            max_depth=3, max_features='auto', max_leaf_nodes=None,\n",
       "            min_impurity_split=1e-07, min_samples_leaf=1,\n",
       "            min_samples_split=2, min_weight_fraction_leaf=0.0,\n",
       "            n_estimators=50, n_jobs=1, oob_score=False, random_state=None,\n",
       "            verbose=0, warm_start=False)"
      ]
     },
     "execution_count": 111,
     "metadata": {},
     "output_type": "execute_result"
    }
   ],
   "source": [
    "RandomForestClf.fit(X,y)"
   ]
  },
  {
   "cell_type": "code",
   "execution_count": 112,
   "metadata": {},
   "outputs": [
    {
     "data": {
      "text/plain": [
       "[(0.29559896952491083, 'number_inpatient'),\n",
       " (0.26200336644178535, 'discharge_disposition_id'),\n",
       " (0.11158231137140362, 'time_in_hospital'),\n",
       " (0.066085650835940882, 'age'),\n",
       " (0.056839890287812833, 'num_medications'),\n",
       " (0.046258715549976008, 'number_diagnoses'),\n",
       " (0.039122278952575543, 'number_emergency'),\n",
       " (0.02149249180961206, 'diag_1'),\n",
       " (0.013732953136690505, 'num_lab_procedures'),\n",
       " (0.012338767390704448, 'diabetesMed'),\n",
       " (0.0090455167744304555, 'number_outpatient'),\n",
       " (0.0076933219690437562, 'diag_2'),\n",
       " (0.0065291995222520639, 'repaglinide'),\n",
       " (0.0050897439418847402, 'change'),\n",
       " (0.0049362773877398023, 'glipizide'),\n",
       " (0.0044704086166471651, 'num_procedures'),\n",
       " (0.0042681466675468507, 'race'),\n",
       " (0.0039075085968881037, 'insulin'),\n",
       " (0.0036767353932384002, 'diag_3'),\n",
       " (0.0033030365323623561, 'max_glu_serum'),\n",
       " (0.0030588202754412604, 'acarbose'),\n",
       " (0.0030130832558664614, 'admission_source_id'),\n",
       " (0.0029054532316100047, 'glyburide'),\n",
       " (0.002282969341220009, 'A1Cresult'),\n",
       " (0.0020399077246226029, 'admission_type_id'),\n",
       " (0.0018303401716823217, 'pioglitazone'),\n",
       " (0.0015125222992308437, 'rosiglitazone'),\n",
       " (0.0014950488117026932, 'glyburide-metformin'),\n",
       " (0.0012139831557555659, 'metformin'),\n",
       " (0.0010517148757799349, 'tolbutamide'),\n",
       " (0.00090732811787710391, 'glimepiride'),\n",
       " (0.00049952015441844801, 'gender'),\n",
       " (0.00021401788134699836, 'chlorpropamide'),\n",
       " (0.0, 'nateglinide'),\n",
       " (0.0, 'acetohexamide'),\n",
       " (0.0, 'miglitol'),\n",
       " (0.0, 'troglitazone'),\n",
       " (0.0, 'tolazamide'),\n",
       " (0.0, 'examide'),\n",
       " (0.0, 'citoglipton'),\n",
       " (0.0, 'glipizide-metformin'),\n",
       " (0.0, 'glimepiride-pioglitazone'),\n",
       " (0.0, 'metformin-rosiglitazone'),\n",
       " (0.0, 'metformin-pioglitazone')]"
      ]
     },
     "execution_count": 112,
     "metadata": {},
     "output_type": "execute_result"
    }
   ],
   "source": [
    "## view top 10 features based on the feature importance of the model\n",
    "sorted(zip(RandomForestClf.feature_importances_, X.columns), key = lambda x: x[0], reverse = True){0:10}"
   ]
  },
  {
   "cell_type": "code",
   "execution_count": 84,
   "metadata": {
    "collapsed": true
   },
   "outputs": [],
   "source": [
    "## Using Gaussian Naive Bayes, No parameters to tune\n",
    "\n",
    "NaiveBayesClf = GaussianNB()\n",
    "kfoldcv = StratifiedKFold(n_splits=5, random_state=1)"
   ]
  },
  {
   "cell_type": "code",
   "execution_count": 78,
   "metadata": {
    "collapsed": true
   },
   "outputs": [],
   "source": [
    "for (train, test) in (kfoldcv.split(X,y)):\n",
    "    clf.fit(X.iloc[train], y.iloc[train])\n",
    "    #score = clf.score(X.iloc[test], y.iloc[test])\n",
    "    f1score = f1_score(clf.predict(X.iloc[test]), y.iloc[test])\n",
    "    scores.append(f1score)\n",
    "        \n",
    "    result = np.mean(scores)"
   ]
  },
  {
   "cell_type": "code",
   "execution_count": 79,
   "metadata": {},
   "outputs": [
    {
     "data": {
      "text/plain": [
       "0.051125832659851475"
      ]
     },
     "execution_count": 79,
     "metadata": {},
     "output_type": "execute_result"
    }
   ],
   "source": [
    "result"
   ]
  },
  {
   "cell_type": "code",
   "execution_count": 89,
   "metadata": {},
   "outputs": [
    {
     "data": {
      "text/plain": [
       "<matplotlib.legend.Legend at 0x1d73c278>"
      ]
     },
     "execution_count": 89,
     "metadata": {},
     "output_type": "execute_result"
    },
    {
     "data": {
      "image/png": "[encoded data removed]",
      "text/plain": [
       "<matplotlib.figure.Figure at 0x1690fc50>"
      ]
     },
     "metadata": {},
     "output_type": "display_data"
    }
   ],
   "source": [
    "## Plotting the ROC curve for the three modes\n",
    "\n",
    "X_train, X_test, y_train, y_test = train_test_split(X, y, test_size=0.33, random_state=42)\n",
    "y_score = DecisonTreeclf.predict_proba(X_test)\n",
    "fpr, tpr, _ = roc_curve(y_test, y_score[:,1])\n",
    "plt.figure()\n",
    "lw = 2\n",
    "plt.plot(fpr, tpr, color='darkorange',\n",
    "         lw=lw, label='Decision Tree (area = %0.2f)' % roc_auc_score(y_test, y_score[:,1]))\n",
    "\n",
    "y_score = RandomForestClf.predict_proba(X_test)\n",
    "fpr, tpr, _ = roc_curve(y_test, y_score[:,1])\n",
    "plt.plot(fpr, tpr, color='green',\n",
    "         lw=lw, label='Random Forest (area = %0.2f)' % roc_auc_score(y_test, y_score[:,1]))\n",
    "\n",
    "y_score = NaiveBayesClf.predict_proba(X_test)\n",
    "fpr, tpr, _ = roc_curve(y_test, y_score[:,1])\n",
    "plt.plot(fpr, tpr, color='red',\n",
    "         lw=lw, label='Naive Bayes(area = %0.2f)' % roc_auc_score(y_test, y_score[:,1]))\n",
    "\n",
    "\n",
    "plt.plot([0, 1], [0, 1], color='navy', lw=lw, linestyle='--')\n",
    "plt.xlim([0.0, 1.0])\n",
    "plt.ylim([0.0, 1.05])\n",
    "plt.xlabel('False Positive Rate')\n",
    "plt.ylabel('True Positive Rate')\n",
    "plt.title('Receiver operating characteristic example')\n",
    "plt.legend(loc=\"lower right\")\n"
   ]
  },
  {
   "cell_type": "code",
   "execution_count": null,
   "metadata": {
    "collapsed": true
   },
   "outputs": [],
   "source": []
  },
  {
   "cell_type": "code",
   "execution_count": null,
   "metadata": {
    "collapsed": true
   },
   "outputs": [],
   "source": []
  },
  {
   "cell_type": "code",
   "execution_count": null,
   "metadata": {
    "collapsed": true
   },
   "outputs": [],
   "source": []
  },
  {
   "cell_type": "markdown",
   "metadata": {},
   "source": [
    "Another approach is to resolve the class imbalance using a simple oversampling."
   ]
  },
  {
   "cell_type": "code",
   "execution_count": 33,
   "metadata": {},
   "outputs": [],
   "source": [
    "def resolveclassimbalance(X,y):\n",
    "    '''\n",
    "    Use naive random undersampling to balance the class imbalance of the dataset\n",
    "    X - training attributes\n",
    "    y - target attribute\n",
    "    \n",
    "    Returns: Balanced dataset\n",
    "    '''\n",
    "    positive = X[y == 1]\n",
    "    negative = X[y == 0].sample(frac = 1).iloc[0:len(positive)]\n",
    "    \n",
    "    return pd.concat([positive, negative]) , pd.concat([y[y == 1], y[y == 0][: len(positive)]])\n",
    "    "
   ]
  },
  {
   "cell_type": "code",
   "execution_count": 90,
   "metadata": {},
   "outputs": [],
   "source": [
    "## For Decision Tree\n",
    "max_features = ['auto', 'sqrt', 'log2']\n",
    "max_depth = range(1,16)\n",
    "results = {}\n",
    "\n",
    "kfoldcv = StratifiedKFold(n_splits=5, random_state=1)\n",
    "\n",
    "for i in max_features:\n",
    "    for j in max_depth:\n",
    "        clf = DecisionTreeClassifier(max_depth=j, max_features=i)\n",
    "        #print (i,j)\n",
    "        scores = []\n",
    "        \n",
    "        for k, (train, test) in enumerate(kfoldcv.split(X,y)):\n",
    "            X_train, y_train = resolveclassimbalance(X.iloc[train], y.iloc[train])\n",
    "            X_test, y_test = resolveclassimbalance(X.iloc[test], y.iloc[test])\n",
    "            clf.fit(X_train, y_train)\n",
    "            accuracy = clf.score(X_test, y_test)\n",
    "            #f1score = f1_score(clf.predict(X.iloc[test]), y.iloc[test], average='weighted')\n",
    "            scores.append(accuracy)\n",
    "        \n",
    "        results[(i,j)] = np.mean(scores)"
   ]
  },
  {
   "cell_type": "code",
   "execution_count": 92,
   "metadata": {},
   "outputs": [
    {
     "data": {
      "text/plain": [
       "(('auto', 6), 0.5750799016556154)"
      ]
     },
     "execution_count": 92,
     "metadata": {},
     "output_type": "execute_result"
    }
   ],
   "source": [
    "## Best Parameters set using this classifier \n",
    "sorted(results.items(), key = lambda (k,v): v, reverse = True)[0]"
   ]
  },
  {
   "cell_type": "code",
   "execution_count": 93,
   "metadata": {
    "collapsed": true
   },
   "outputs": [],
   "source": [
    "## Naive Bayes\n",
    "\n",
    "NaiveBayesClf = GaussianNB()\n",
    "kfoldcv = StratifiedKFold(n_splits=5, random_state=1)\n",
    "\n",
    "for (train, test) in (kfoldcv.split(X,y)):\n",
    "    X_train, y_train = resolveclassimbalance(X.iloc[train], y.iloc[train])\n",
    "    X_test, y_test = resolveclassimbalance(X.iloc[test], y.iloc[test])\n",
    "    NaiveBayesClf.fit(X_train, y_train)\n",
    "    accuracy = NaiveBayesClf.score(X_test, y_test)\n",
    "    scores.append(accuracy)\n",
    "        \n",
    "    result = np.mean(scores)"
   ]
  },
  {
   "cell_type": "code",
   "execution_count": 94,
   "metadata": {},
   "outputs": [
    {
     "data": {
      "text/plain": [
       "0.53058683362145498"
      ]
     },
     "execution_count": 94,
     "metadata": {},
     "output_type": "execute_result"
    }
   ],
   "source": [
    "result"
   ]
  },
  {
   "cell_type": "code",
   "execution_count": 95,
   "metadata": {
    "collapsed": true
   },
   "outputs": [],
   "source": [
    "## For Random Forest\n",
    "\n",
    "max_depth = range(1,10)\n",
    "n_estimators = [50, 100, 300, 500]\n",
    "\n",
    "results = {}\n",
    "\n",
    "## Using K-Fold Cross Validation with 5 Folds\n",
    "kfoldcv = StratifiedKFold(n_splits=5, random_state=1)\n",
    "\n",
    "for i in n_estimators:\n",
    "    for j in max_depth:\n",
    "        clf = RandomForestClassifier(max_depth=j, n_estimators=i)\n",
    "        ##print (i,j)\n",
    "        scores = []\n",
    "        \n",
    "        for k, (train, test) in enumerate(kfoldcv.split(X,y)):\n",
    "            X_train, y_train = resolveclassimbalance(X.iloc[train], y.iloc[train])\n",
    "            X_test, y_test = resolveclassimbalance(X.iloc[test], y.iloc[test])\n",
    "            clf.fit(X_train, y_train)\n",
    "            accuracy = clf.score(X_test, y_test)\n",
    "            #f1score = f1_score(clf.predict(X.iloc[test]), y.iloc[test], average='weighted')\n",
    "            scores.append(accuracy)\n",
    "        \n",
    "        results[(i,j)] = np.mean(scores)"
   ]
  },
  {
   "cell_type": "code",
   "execution_count": 97,
   "metadata": {},
   "outputs": [
    {
     "data": {
      "text/plain": [
       "((500, 9), 0.6012204654310902)"
      ]
     },
     "execution_count": 97,
     "metadata": {},
     "output_type": "execute_result"
    }
   ],
   "source": [
    "sorted(results.items(), key = lambda (k,v): v, reverse = True)[0]"
   ]
  },
  {
   "cell_type": "code",
   "execution_count": null,
   "metadata": {
    "collapsed": true
   },
   "outputs": [],
   "source": []
  }
 ],
 "metadata": {
  "kernelspec": {
   "display_name": "Python 2",
   "language": "python",
   "name": "python2"
  },
  "language_info": {
   "codemirror_mode": {
    "name": "ipython",
    "version": 2
   },
   "file_extension": ".py",
   "mimetype": "text/x-python",
   "name": "python",
   "nbconvert_exporter": "python",
   "pygments_lexer": "ipython2",
   "version": "2.7.13"
  }
 },
 "nbformat": 4,
 "nbformat_minor": 2
}
