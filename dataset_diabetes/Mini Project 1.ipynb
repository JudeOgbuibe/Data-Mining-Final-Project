{
 "cells": [
  {
   "cell_type": "markdown",
   "metadata": {},
   "source": [
    "# Mini Project 1\n",
    "## Mining Association rules using Apriori, Apriori with transaction reduction and FPGrowth algorithms\n",
    "\n",
    "This study is to compare the computational performance of the 3 different methods of mining association rules by determining the run times for the Adult dataset from http://archive.ics.uci.edu/ml/machine-learning-databases/adult/adult.data. "
   ]
  },
  {
   "cell_type": "code",
   "execution_count": 70,
   "metadata": {
    "collapsed": true
   },
   "outputs": [],
   "source": [
    "import pandas as pd\n",
    "import numpy as np\n",
    "from collections import defaultdict, namedtuple\n",
    "from itertools import chain,combinations\n",
    "import itertools\n",
    "import time\n"
   ]
  },
  {
   "cell_type": "markdown",
   "metadata": {
    "collapsed": true
   },
   "source": [
    "#### Import data:\n",
    "The dataset is imported to a pandas dataframe from which the transactions mining would be done."
   ]
  },
  {
   "cell_type": "code",
   "execution_count": null,
   "metadata": {
    "collapsed": true
   },
   "outputs": [],
   "source": [
    "headers = ['age', 'workclass', 'fnlwgt', 'education', 'education-num', 'marital-status', 'occupation', 'relationship', 'race', 'sex', 'capital-gain', 'capital-loss', 'hours-per-week', 'native-country']"
   ]
  },
  {
   "cell_type": "code",
   "execution_count": 4,
   "metadata": {
    "collapsed": true
   },
   "outputs": [],
   "source": [
    "data = pd.read_csv('http://archive.ics.uci.edu/ml/machine-learning-databases/adult/adult.data', names=headers, index_col=False)"
   ]
  },
  {
   "cell_type": "code",
   "execution_count": 34,
   "metadata": {},
   "outputs": [
    {
     "data": {
      "text/html": [
       "<div>\n",
       "<style>\n",
       "    .dataframe thead tr:only-child th {\n",
       "        text-align: right;\n",
       "    }\n",
       "\n",
       "    .dataframe thead th {\n",
       "        text-align: left;\n",
       "    }\n",
       "\n",
       "    .dataframe tbody tr th {\n",
       "        vertical-align: top;\n",
       "    }\n",
       "</style>\n",
       "<table border=\"1\" class=\"dataframe\">\n",
       "  <thead>\n",
       "    <tr style=\"text-align: right;\">\n",
       "      <th></th>\n",
       "      <th>age</th>\n",
       "      <th>workclass</th>\n",
       "      <th>fnlwgt</th>\n",
       "      <th>education</th>\n",
       "      <th>education-num</th>\n",
       "      <th>marital-status</th>\n",
       "      <th>occupation</th>\n",
       "      <th>relationship</th>\n",
       "      <th>race</th>\n",
       "      <th>sex</th>\n",
       "      <th>capital-gain</th>\n",
       "      <th>capital-loss</th>\n",
       "      <th>hours-per-week</th>\n",
       "      <th>native-country</th>\n",
       "    </tr>\n",
       "  </thead>\n",
       "  <tbody>\n",
       "    <tr>\n",
       "      <th>0</th>\n",
       "      <td>39</td>\n",
       "      <td>State-gov</td>\n",
       "      <td>77516</td>\n",
       "      <td>Bachelors</td>\n",
       "      <td>13</td>\n",
       "      <td>Never-married</td>\n",
       "      <td>Adm-clerical</td>\n",
       "      <td>Not-in-family</td>\n",
       "      <td>White</td>\n",
       "      <td>Male</td>\n",
       "      <td>2174</td>\n",
       "      <td>0</td>\n",
       "      <td>40</td>\n",
       "      <td>United-States</td>\n",
       "    </tr>\n",
       "    <tr>\n",
       "      <th>1</th>\n",
       "      <td>50</td>\n",
       "      <td>Self-emp-not-inc</td>\n",
       "      <td>83311</td>\n",
       "      <td>Bachelors</td>\n",
       "      <td>13</td>\n",
       "      <td>Married-civ-spouse</td>\n",
       "      <td>Exec-managerial</td>\n",
       "      <td>Husband</td>\n",
       "      <td>White</td>\n",
       "      <td>Male</td>\n",
       "      <td>0</td>\n",
       "      <td>0</td>\n",
       "      <td>13</td>\n",
       "      <td>United-States</td>\n",
       "    </tr>\n",
       "    <tr>\n",
       "      <th>2</th>\n",
       "      <td>38</td>\n",
       "      <td>Private</td>\n",
       "      <td>215646</td>\n",
       "      <td>HS-grad</td>\n",
       "      <td>9</td>\n",
       "      <td>Divorced</td>\n",
       "      <td>Handlers-cleaners</td>\n",
       "      <td>Not-in-family</td>\n",
       "      <td>White</td>\n",
       "      <td>Male</td>\n",
       "      <td>0</td>\n",
       "      <td>0</td>\n",
       "      <td>40</td>\n",
       "      <td>United-States</td>\n",
       "    </tr>\n",
       "    <tr>\n",
       "      <th>3</th>\n",
       "      <td>53</td>\n",
       "      <td>Private</td>\n",
       "      <td>234721</td>\n",
       "      <td>11th</td>\n",
       "      <td>7</td>\n",
       "      <td>Married-civ-spouse</td>\n",
       "      <td>Handlers-cleaners</td>\n",
       "      <td>Husband</td>\n",
       "      <td>Black</td>\n",
       "      <td>Male</td>\n",
       "      <td>0</td>\n",
       "      <td>0</td>\n",
       "      <td>40</td>\n",
       "      <td>United-States</td>\n",
       "    </tr>\n",
       "    <tr>\n",
       "      <th>4</th>\n",
       "      <td>28</td>\n",
       "      <td>Private</td>\n",
       "      <td>338409</td>\n",
       "      <td>Bachelors</td>\n",
       "      <td>13</td>\n",
       "      <td>Married-civ-spouse</td>\n",
       "      <td>Prof-specialty</td>\n",
       "      <td>Wife</td>\n",
       "      <td>Black</td>\n",
       "      <td>Female</td>\n",
       "      <td>0</td>\n",
       "      <td>0</td>\n",
       "      <td>40</td>\n",
       "      <td>Cuba</td>\n",
       "    </tr>\n",
       "  </tbody>\n",
       "</table>\n",
       "</div>"
      ],
      "text/plain": [
       "   age          workclass  fnlwgt   education  education-num  \\\n",
       "0   39          State-gov   77516   Bachelors             13   \n",
       "1   50   Self-emp-not-inc   83311   Bachelors             13   \n",
       "2   38            Private  215646     HS-grad              9   \n",
       "3   53            Private  234721        11th              7   \n",
       "4   28            Private  338409   Bachelors             13   \n",
       "\n",
       "        marital-status          occupation    relationship    race      sex  \\\n",
       "0        Never-married        Adm-clerical   Not-in-family   White     Male   \n",
       "1   Married-civ-spouse     Exec-managerial         Husband   White     Male   \n",
       "2             Divorced   Handlers-cleaners   Not-in-family   White     Male   \n",
       "3   Married-civ-spouse   Handlers-cleaners         Husband   Black     Male   \n",
       "4   Married-civ-spouse      Prof-specialty            Wife   Black   Female   \n",
       "\n",
       "   capital-gain  capital-loss  hours-per-week  native-country  \n",
       "0          2174             0              40   United-States  \n",
       "1             0             0              13   United-States  \n",
       "2             0             0              40   United-States  \n",
       "3             0             0              40   United-States  \n",
       "4             0             0              40            Cuba  "
      ]
     },
     "execution_count": 34,
     "metadata": {},
     "output_type": "execute_result"
    }
   ],
   "source": [
    "data.head()"
   ]
  },
  {
   "cell_type": "markdown",
   "metadata": {},
   "source": [
    "The transactions from the dataframe is converted in a list of itemsets via the function below:"
   ]
  },
  {
   "cell_type": "code",
   "execution_count": 7,
   "metadata": {
    "collapsed": true
   },
   "outputs": [],
   "source": [
    "def gettransactionset(data):\n",
    "    tranlist = []\n",
    "    for i in data.index:\n",
    "        itemset = []\n",
    "        for k,v in dict(data.iloc[i]).items():\n",
    "            if isinstance(v, str) or not np.isnan(v): #Handle missing values\n",
    "                itemset.append(k + ' - ' + str(v))\n",
    "        tranlist.append(frozenset(itemset))\n",
    "    return tranlist\n"
   ]
  },
  {
   "cell_type": "markdown",
   "metadata": {},
   "source": [
    "### 1: Apriori Algorithm\n",
    "\n",
    "The apriori algorithm is implemented as stated below:"
   ]
  },
  {
   "cell_type": "code",
   "execution_count": 35,
   "metadata": {
    "collapsed": true
   },
   "outputs": [],
   "source": [
    "def frequent1itemset(transactions, minsup):\n",
    "    '''\n",
    "    transactions: list of transaction set\n",
    "    minsup: absolute minimum support count\n",
    "    \n",
    "    returns list one itemsets as well as a dictionary one itemsets with support counts.\n",
    "    '''\n",
    "    count = len(transactions)\n",
    "    oneitems = defaultdict(int)\n",
    "    oneitemsupport = set()\n",
    "    \n",
    "    for transaction in transactions:\n",
    "        for item in transaction:\n",
    "            oneitems[item] += 1\n",
    "            \n",
    "    for k, v in oneitems.items():\n",
    "        if v >= (minsup * count):\n",
    "            oneitemsupport.add(frozenset([k]))\n",
    "        #else:\n",
    "        #    del oneitems[k]\n",
    "            \n",
    "    return oneitemsupport, oneitems"
   ]
  },
  {
   "cell_type": "code",
   "execution_count": 36,
   "metadata": {
    "collapsed": true
   },
   "outputs": [],
   "source": [
    "def selfjoin(prevfreqset, targetlength):\n",
    "    '''\n",
    "    This function performs a self joining to determine the K itemset\n",
    "    prevfreqset: frequent K - 1 itemset\n",
    "    targetlength: The K value i.e the length of the frequent items\n",
    "    returns a set of items.\n",
    "    '''\n",
    "    #return set([i.union(j) for i in itemSet for j in itemSet if len(i.union(j)) == targetlength])\n",
    "    return set([i.union(j) for i in prevfreqset for j in prevfreqset if len(i.union(j)) == targetlength])"
   ]
  },
  {
   "cell_type": "code",
   "execution_count": 37,
   "metadata": {
    "collapsed": true
   },
   "outputs": [],
   "source": [
    "def hasinfrequentsubset(freqitems, previousL):\n",
    "    '''\n",
    "    ***Checks if any of the joined frequent items is infrequent.\n",
    "    freqitems: an item set\n",
    "    previousL: previous list of frequent itemset.\n",
    "    returns a boolean value corresponding if the itemset has infrequent subset\n",
    "    \n",
    "    '''\n",
    "    for i in freqitems:\n",
    "        #seti = set([i])\n",
    "        if previousL.issuperset([i]):\n",
    "            return False\n",
    "    return True"
   ]
  },
  {
   "cell_type": "code",
   "execution_count": 38,
   "metadata": {
    "collapsed": true
   },
   "outputs": [],
   "source": [
    "def getfrequentitemsfromL(L, transactions, minsupport):\n",
    "    '''\n",
    "    Scans transactions to determine itemsets which are frequent.\n",
    "    L: List of frequent itemsets\n",
    "    transactions: list of transactions\n",
    "    minsupport: absolute minimum support\n",
    "    \n",
    "    returns set of frequent itemsets as well as a dictionary frequent items and a support count.\n",
    "    '''\n",
    "    \n",
    "    freqitems = set()\n",
    "    #itemcounts = set()\n",
    "    itemcount = defaultdict(int)\n",
    "    for i in L:\n",
    "        #itemcount = defaultdict(int)\n",
    "        for itemset in transactions:\n",
    "            if i.issubset(itemset):\n",
    "                itemcount[i] += 1\n",
    "        if itemcount[i] / len(transactions) >= minsupport:\n",
    "            freqitems.add(i)\n",
    "        #else:\n",
    "        #    del itemcount[i]\n",
    "    \n",
    "    return freqitems, itemcount"
   ]
  },
  {
   "cell_type": "code",
   "execution_count": 65,
   "metadata": {
    "collapsed": true
   },
   "outputs": [],
   "source": [
    "def generatefrequentitemsApriori(transactions, minsupport):\n",
    "    '''\n",
    "    Runs full process to get all frequent itemsets.\n",
    "    transactions: full list of all transactions\n",
    "    minsupport: absolute minimum support\n",
    "    \n",
    "    returns a set of frequent itemsets and set of dictionary of frequent itemset and each support count.\n",
    "    '''\n",
    "    \n",
    "    starttime = time.time()\n",
    "    #Get frequent 1-Item sets\n",
    "    K = 1\n",
    "    #L1 = frequent1itemset(transactions, minsupport)\n",
    "    Fulllist = set([])\n",
    "    CurrentSet, Fulldict = frequent1itemset(transactions, minsupport)\n",
    "    Lkprev = set()\n",
    "    K += 1\n",
    "    while CurrentSet != set([]):\n",
    "        #print('Loop %i, %i'%(K, len(Fulllist)))\n",
    "        Lkprev.union(CurrentSet)\n",
    "        CurrentSet = selfjoin(CurrentSet, K)\n",
    "    #Using Apriori rule\n",
    "        inf = set()\n",
    "        for i in CurrentSet:\n",
    "            if hasinfrequentsubset(i, Lkprev):\n",
    "                inf.add(i)\n",
    "        CurrentSet.discard(inf)\n",
    "    #Scan transaction list for minimum support\n",
    "        CurrentSet, CurrentD = getfrequentitemsfromL(CurrentSet, transactions, minsupport)\n",
    "        Fulllist = Fulllist.union(CurrentSet)\n",
    "        Fulldict.update(CurrentD)\n",
    "        K += 1\n",
    "        \n",
    "    return Fulllist, Fulldict, time.time() - starttime"
   ]
  },
  {
   "cell_type": "code",
   "execution_count": 13,
   "metadata": {
    "collapsed": true
   },
   "outputs": [],
   "source": [
    "def subsets(myset):\n",
    "    \"\"\" Returns non empty subsets of arr\"\"\"\n",
    "    cs = chain(*[combinations(myset, i + 1) for i, a in enumerate(myset)])\n",
    "    return map(frozenset, [x for x in cs])"
   ]
  },
  {
   "cell_type": "code",
   "execution_count": 14,
   "metadata": {
    "collapsed": true
   },
   "outputs": [],
   "source": [
    "def getffrequentassociations(frequentset, frequentsetcounters, minconf, numoftrans):\n",
    "    '''\n",
    "    frequentset: Set of frequent items from which rules are to be obtained.\n",
    "    frequentsetcounters: Set of frequent items with their support count.\n",
    "    minconf: minumum confidence which must hold for a rule to be frequent.\n",
    "    numoftrans: number of transactions which is being mined.\n",
    "    '''\n",
    "    def getsupport(item):\n",
    "        '''\n",
    "        item: Item in frequent itemset whose minimums support is to be determined.\n",
    "        Returns float value of support value.\n",
    "        '''\n",
    "        if len(item) == 1:\n",
    "            item = list(item)[0]\n",
    "        return float(frequentsetcounters[item])/numoftrans\n",
    "    \n",
    "    frequentrules = []\n",
    "    for freqitem in frequentset:\n",
    "        #Get Subsets for frequent item\n",
    "        subs = subsets(freqitem)\n",
    "        for element in subs:\n",
    "            rem = freqitem.difference(element)\n",
    "            if len(rem) > 0:\n",
    "                conf = getsupport(freqitem)/getsupport(element)\n",
    "                if conf >= minconf:\n",
    "                    frequentrules.append(((tuple(element), tuple(rem)), conf, getsupport(freqitem)))\n",
    "                    \n",
    "    #return sorted(frequentrules, reverse=True, key = lambda rule, conf, sup: sup)\n",
    "    return frequentrules"
   ]
  },
  {
   "cell_type": "code",
   "execution_count": 42,
   "metadata": {
    "collapsed": true
   },
   "outputs": [],
   "source": [
    "-"
   ]
  },
  {
   "cell_type": "code",
   "execution_count": 16,
   "metadata": {},
   "outputs": [
    {
     "name": "stdout",
     "output_type": "stream",
     "text": [
      "Rule 0: ('capital-loss - 0',) => ('native-country -  United-States',) - support: 0.85, confidence: 0.90\n",
      "Rule 1: ('native-country -  United-States',) => ('capital-loss - 0',) - support: 0.85, confidence: 0.95\n",
      "Rule 2: ('capital-gain - 0',) => ('native-country -  United-States',) - support: 0.82, confidence: 0.89\n",
      "Rule 3: ('native-country -  United-States',) => ('capital-gain - 0',) - support: 0.82, confidence: 0.92\n",
      "Rule 4: ('capital-gain - 0',) => ('capital-loss - 0',) - support: 0.87, confidence: 0.95\n",
      "Rule 5: ('capital-loss - 0',) => ('capital-gain - 0',) - support: 0.87, confidence: 0.91\n",
      "Rule 6: ('capital-loss - 0',) => ('race -  White',) - support: 0.81, confidence: 0.85\n",
      "Rule 7: ('race -  White',) => ('capital-loss - 0',) - support: 0.81, confidence: 0.95\n",
      "--- 11.927528381347656 seconds ---\n"
     ]
    }
   ],
   "source": [
    "associationruleminer(data, 0.8, 0.6)"
   ]
  },
  {
   "cell_type": "code",
   "execution_count": 17,
   "metadata": {
    "collapsed": true
   },
   "outputs": [],
   "source": [
    "#itemset, itemsetsupport = generatefrequentitemsApriori(set, 0.5)"
   ]
  },
  {
   "cell_type": "markdown",
   "metadata": {},
   "source": [
    "### 2: Apriori Algorithm with transaction Reduction\n",
    "\n",
    "This implements the apriori algorithm but the transaction list reduced with each pass. \n",
    "This is based on the principle that the transaction list for which there is no frequent K itemset cannot have a K + 1 itemset."
   ]
  },
  {
   "cell_type": "code",
   "execution_count": 75,
   "metadata": {
    "collapsed": true
   },
   "outputs": [],
   "source": [
    "#Implement improvement to the apriori algorithm\n",
    "\n",
    "## Using transaction reduction\n",
    "\n",
    "def getfrequentitemsTranReduction(L, transactions, minsupport, numberoftrans):\n",
    "    \n",
    "    '''\n",
    "    Scans transactions to determine itemsets which are frequent.\n",
    "    L: List of frequent itemsets\n",
    "    transactions: list of transactions\n",
    "    minsupport: absolute minimum support\n",
    "    numberoftrans: Number of transactions in the transaction set.\n",
    "    \n",
    "    returns set of frequent itemsets as well as a dictionary frequent items and a support count.\n",
    "    '''\n",
    "    freqitems = set()\n",
    "    #itemcounts = set()\n",
    "    itemcount = defaultdict(int)\n",
    "    tranindex =  defaultdict(int)\n",
    "    for i in L:\n",
    "        #itemcount = defaultdict(int)\n",
    "        for cnt, itemset in enumerate(transactions):\n",
    "            if i.issubset(itemset):\n",
    "                itemcount[i] += 1\n",
    "                tranindex[cnt] += 1  #To facilitate transaction reduction\n",
    "        if itemcount[i] / numberoftrans >= minsupport:\n",
    "            freqitems.add(i)\n",
    "        \n",
    "    \n",
    "    #********Reduce transaction side by deleting unreferenced transactions\n",
    "    \n",
    "    trans = list(transactions)\n",
    "    for i in range(len(transactions)):\n",
    "        if i not in tranindex.keys():\n",
    "            transactions.remove(trans[i])\n",
    "    #print('Current Length %d' % len(transactions))\n",
    "    return freqitems, itemcount, transactions\n",
    "\n",
    "\n",
    "def generatefrequentitemsAprioriWithReduction(transactions, minsupport, numberoftrans):\n",
    "    '''\n",
    "    Runs full process to get all frequent itemsets.\n",
    "    transactions: full list of all transactions\n",
    "    minsupport: absolute minimum support\n",
    "    numberoftrans: number of transaction.\n",
    "    \n",
    "    returns a set of frequent itemsets and set of dictionary of frequent itemset and each support count.\n",
    "    '''\n",
    "    starttime = time.time()\n",
    "    #Get frequent 1-Item sets\n",
    "    K = 1\n",
    "    #L1 = frequent1itemset(transactions, minsupport)\n",
    "    Fulllist = set([])\n",
    "    CurrentSet, Fulldict = frequent1itemset(transactions, minsupport)\n",
    "    Lkprev = set()\n",
    "    K += 1\n",
    "    while CurrentSet != set([]):\n",
    "        #print('Loop %i, %i'%(K, len(Fulllist)))\n",
    "        Lkprev.union(CurrentSet)\n",
    "        CurrentSet = selfjoin(CurrentSet, K)\n",
    "    #Using Apriori rule\n",
    "        inf = set()\n",
    "        for i in CurrentSet:\n",
    "            if hasinfrequentsubset(i, Lkprev):\n",
    "                inf.add(i)\n",
    "        CurrentSet.discard(inf)\n",
    "    #Scan transaction list for minimum support\n",
    "        CurrentSet, CurrentD, transactions = getfrequentitemsTranReduction(CurrentSet, transactions, minsupport, numberoftrans)\n",
    "        Fulllist = Fulllist.union(CurrentSet)\n",
    "        Fulldict.update(CurrentD)\n",
    "        K += 1\n",
    "        \n",
    "    return Fulllist, Fulldict, time.time() - starttime"
   ]
  },
  {
   "cell_type": "code",
   "execution_count": null,
   "metadata": {
    "collapsed": true
   },
   "outputs": [],
   "source": []
  },
  {
   "cell_type": "code",
   "execution_count": 32,
   "metadata": {
    "collapsed": true
   },
   "outputs": [],
   "source": [
    "\n",
    "def associationruleminerWithReduction(transaction, minsup, minconf):\n",
    "    '''\n",
    "    transaction: The list of transactions to be mined in pandas dataframe\n",
    "    minsupport: The absolute minimum support\n",
    "    minconf: The absolute value of the minimum confidence\n",
    "    \n",
    "    returns the time for running.\n",
    "    '''\n",
    "    \n",
    "    import time\n",
    "    start_time = time.time()\n",
    "    \n",
    "    #Convert transaction dataframe into a set of items.\n",
    "    transactions = gettransactionset(transaction)\n",
    "    \n",
    "    n  = len(transactions)\n",
    "    #Get frequent itemsets and itemset support count\n",
    "    itemset, itemsetsupport, t = generatefrequentitemsAprioriWithReduction(transactions, minsup, numberoftrans=n)\n",
    "    \n",
    "    #Mine association rules from frequent itemsets\n",
    "    assocrules = getffrequentassociations(itemset, itemsetsupport, minconf=minconf, numoftrans=n)\n",
    "    \n",
    "    #print out association rules\n",
    "    \n",
    "    for i, rule in enumerate(assocrules):\n",
    "        print('Rule %i: %s => %s - support: %0.2f, confidence: %0.2f' %(i, rule[0][0], rule[0][1], rule[2], rule[1]))\n",
    "        \n",
    "    return (time.time() - start_time)"
   ]
  },
  {
   "cell_type": "code",
   "execution_count": 20,
   "metadata": {},
   "outputs": [
    {
     "name": "stdout",
     "output_type": "stream",
     "text": [
      "--- 11.400942087173462 seconds ---\n"
     ]
    }
   ],
   "source": [
    "## Sample run with 0.8 minimum support and 0.6 minimum confidence\n",
    "associationruleminerWithReduction(data, 0.8, 0.6)"
   ]
  },
  {
   "cell_type": "code",
   "execution_count": 21,
   "metadata": {},
   "outputs": [
    {
     "name": "stdout",
     "output_type": "stream",
     "text": [
      "Current Length 32411\n",
      "Current Length 29536\n",
      "Rule 0: ('capital-loss - 0',) => ('native-country -  United-States',) - support: 0.85, confidence: 0.90\n",
      "Rule 1: ('native-country -  United-States',) => ('capital-loss - 0',) - support: 0.85, confidence: 0.95\n",
      "Rule 2: ('capital-gain - 0',) => ('native-country -  United-States',) - support: 0.82, confidence: 0.89\n",
      "Rule 3: ('native-country -  United-States',) => ('capital-gain - 0',) - support: 0.82, confidence: 0.92\n",
      "Rule 4: ('capital-gain - 0',) => ('capital-loss - 0',) - support: 0.87, confidence: 0.95\n",
      "Rule 5: ('capital-loss - 0',) => ('capital-gain - 0',) - support: 0.87, confidence: 0.91\n",
      "Rule 6: ('capital-loss - 0',) => ('race -  White',) - support: 0.81, confidence: 0.85\n",
      "Rule 7: ('race -  White',) => ('capital-loss - 0',) - support: 0.81, confidence: 0.95\n",
      "--- 15.136366367340088 seconds ---\n"
     ]
    }
   ],
   "source": []
  },
  {
   "cell_type": "code",
   "execution_count": 22,
   "metadata": {
    "collapsed": true
   },
   "outputs": [],
   "source": []
  },
  {
   "cell_type": "markdown",
   "metadata": {
    "collapsed": true
   },
   "source": [
    "### 3: FP-Growth Algorithm\n",
    "\n",
    "Implement the FP-Growth algorithm by building and mining the FP as done below."
   ]
  },
  {
   "cell_type": "code",
   "execution_count": 62,
   "metadata": {
    "collapsed": true
   },
   "outputs": [],
   "source": [
    "-"
   ]
  },
  {
   "cell_type": "code",
   "execution_count": 53,
   "metadata": {
    "collapsed": true
   },
   "outputs": [],
   "source": []
  },
  {
   "cell_type": "code",
   "execution_count": null,
   "metadata": {
    "collapsed": true
   },
   "outputs": [],
   "source": []
  },
  {
   "cell_type": "code",
   "execution_count": null,
   "metadata": {
    "collapsed": true
   },
   "outputs": [],
   "source": []
  },
  {
   "cell_type": "markdown",
   "metadata": {},
   "source": [
    "## Testing  the different Algorithms\n",
    "\n",
    "We would test 3 algorithms using minimum supports of 0.8, 0.75, 0.7, 0.65, 0.6"
   ]
  },
  {
   "cell_type": "code",
   "execution_count": 68,
   "metadata": {
    "collapsed": true
   },
   "outputs": [],
   "source": [
    "minsupport = [0.8, 0.75, 0.7, 0.65, 0.6]\n",
    "FPgrowth = {}\n",
    "Apriori = {}\n",
    "Aprioriwithreduction = {}\n"
   ]
  },
  {
   "cell_type": "code",
   "execution_count": 77,
   "metadata": {
    "collapsed": true
   },
   "outputs": [],
   "source": [
    "for i in minsupport:\n",
    "    a,b,t = generatefrequentitemsApriori(gettransactionset(data), i)\n",
    "    FPgrowth[i] = t\n",
    "    a,b,t = find_frequent_patterns(gettransactionset(data), i)\n",
    "    Apriori[i] = t\n",
    "    a, b, t = generatefrequentitemsAprioriWithReduction(gettransactionset(data), i, len(gettransactionset(data)))\n",
    "    Aprioriwithreduction[i] = t"
   ]
  },
  {
   "cell_type": "code",
   "execution_count": 78,
   "metadata": {},
   "outputs": [
    {
     "data": {
      "text/plain": [
       "{0.6: 0.47531962394714355,\n",
       " 0.65: 0.390277624130249,\n",
       " 0.7: 0.22517609596252441,\n",
       " 0.75: 0.19615793228149414,\n",
       " 0.8: 0.19113373756408691}"
      ]
     },
     "execution_count": 78,
     "metadata": {},
     "output_type": "execute_result"
    }
   ],
   "source": [
    "FPgrowth"
   ]
  },
  {
   "cell_type": "code",
   "execution_count": 79,
   "metadata": {},
   "outputs": [
    {
     "data": {
      "text/plain": [
       "{0.6: 1.3680055141448975,\n",
       " 0.65: 1.212876558303833,\n",
       " 0.7: 0.9776928424835205,\n",
       " 0.75: 0.8966350555419922,\n",
       " 0.8: 0.7075178623199463}"
      ]
     },
     "execution_count": 79,
     "metadata": {},
     "output_type": "execute_result"
    }
   ],
   "source": [
    "Apriori"
   ]
  },
  {
   "cell_type": "code",
   "execution_count": 80,
   "metadata": {},
   "outputs": [
    {
     "data": {
      "text/plain": [
       "{0.6: 12.861106157302856,\n",
       " 0.65: 14.183064222335815,\n",
       " 0.7: 14.223069906234741,\n",
       " 0.75: 3.039151430130005,\n",
       " 0.8: 4.699326992034912}"
      ]
     },
     "execution_count": 80,
     "metadata": {},
     "output_type": "execute_result"
    }
   ],
   "source": [
    "Aprioriwithreduction"
   ]
  },
  {
   "cell_type": "code",
   "execution_count": 81,
   "metadata": {
    "collapsed": true
   },
   "outputs": [],
   "source": [
    "import matplotlib.pyplot as plt"
   ]
  },
  {
   "cell_type": "code",
   "execution_count": 87,
   "metadata": {},
   "outputs": [
    {
     "data": {
      "image/png": "[encoded data removed]",
      "text/plain": [
       "<matplotlib.figure.Figure at 0x256a56c14e0>"
      ]
     },
     "metadata": {},
     "output_type": "display_data"
    }
   ],
   "source": [
    "plt.figure(figsize=[10,10])\n",
    "plt.plot(list(FPgrowth.keys()), list(FPgrowth.values()), color = 'blue', label = 'FP-Growth')\n",
    "plt.plot(list(Apriori.keys()), list(Apriori.values()), color = 'red', label = 'Apriori')\n",
    "plt.plot(list(Aprioriwithreduction.keys()), list(Aprioriwithreduction.values()), color = 'green', label = 'Apriori with reduction')\n",
    "plt.ylabel('Runtime in seconds')\n",
    "plt.xlabel('Absolute support')\n",
    "plt.legend()\n",
    "plt.title('Figure showing run times for different algorithm for varying support')\n",
    "plt.show()"
   ]
  },
  {
   "cell_type": "markdown",
   "metadata": {},
   "source": [
    "We can conclude that FP-Growth algorithm has the best performance for the given dataset. Although transaction reduction was meant to be an improvement to the Apriori algorithm, it shows a deterioration in performance largely due to cost of reducing the size for each iteration and due to the distribution of the attributes. The improvement should be felt for larger datasets."
   ]
  },
  {
   "cell_type": "markdown",
   "metadata": {},
   "source": [
    "## The End"
   ]
  },
  {
   "cell_type": "code",
   "execution_count": null,
   "metadata": {
    "collapsed": true
   },
   "outputs": [],
   "source": []
  }
 ],
 "metadata": {
  "kernelspec": {
   "display_name": "Python 2",
   "language": "python",
   "name": "python2"
  },
  "language_info": {
   "codemirror_mode": {
    "name": "ipython",
    "version": 2
   },
   "file_extension": ".py",
   "mimetype": "text/x-python",
   "name": "python",
   "nbconvert_exporter": "python",
   "pygments_lexer": "ipython2",
   "version": "2.7.13"
  }
 },
 "nbformat": 4,
 "nbformat_minor": 2
}
